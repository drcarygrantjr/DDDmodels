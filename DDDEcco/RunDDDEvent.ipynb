{
 "cells": [
  {
   "cell_type": "code",
   "execution_count": 16,
   "metadata": {},
   "outputs": [
    {
     "name": "stdout",
     "output_type": "stream",
     "text": [
      "Number of timesteps in RN= 3\n",
      "Location par GDP = 2.22\n",
      "Scale par GDP= 1.25\n",
      "Shape par GPD= 0.19\n",
      "Time elapsed[s]= 177.6949634\n"
     ]
    }
   ],
   "source": [
    "\"\"\"\n",
    "This scipr runs a stripped version of the DDDurban, where subsurface moisture states are drwn from a distribuiton.\n",
    "In addition, extreme precipitation of specidfied duration and the temporal distribuion of that precipitation for shorter\n",
    "timesteps than the duration are dran from a GPD distribution and a beta distribuion. Short timesseries a re simulated many times\n",
    "so that a extremevalue distribiion of floods can be build\n",
    "\"\"\"\n",
    "\n",
    "using LsqFit\n",
    "using Statistics\n",
    "using Dates\n",
    "using DataFrames\n",
    "using Plots\n",
    "using CSV\n",
    "using BlackBoxOptim\n",
    "using Distributions\n",
    "\n",
    "##Preprocessing routines\n",
    "include(\"\\\\\\\\nve.no\\\\fil\\\\h\\\\HB\\\\HB-modellering\\\\DDDtestbenk\\\\DDD_Julia\\\\DDDFunctions\\\\Big2SmallLambda.jl\")\n",
    "include(\"\\\\\\\\nve.no\\\\fil\\\\h\\\\HB\\\\HB-modellering\\\\DDDtestbenk\\\\DDD_Julia\\\\DDDFunctions\\\\CeleritySubSurface.jl\")\n",
    "include(\"\\\\\\\\nve.no\\\\fil\\\\h\\\\HB\\\\HB-modellering\\\\DDDtestbenk\\\\DDD_Julia\\\\DDDFunctions\\\\SingleUH.jl\")\n",
    "include(\"\\\\\\\\nve.no\\\\fil\\\\h\\\\HB\\\\HB-modellering\\\\DDDtestbenk\\\\DDD_Julia\\\\DDDFunctions\\\\SingleNormalUH.jl\")\n",
    "include(\"\\\\\\\\nve.no\\\\fil\\\\h\\\\HB\\\\HB-modellering\\\\DDDtestbenk\\\\DDD_Julia\\\\DDDFunctions\\\\LayerEstimationDesign.jl\")\n",
    "include(\"\\\\\\\\nve.no\\\\fil\\\\h\\\\HB\\\\HB-modellering\\\\DDDtestbenk\\\\DDD_Julia\\\\DDDFunctions\\\\GrvInputDistributionICap2022.jl\")\n",
    "include(\"\\\\\\\\nve.no\\\\fil\\\\h\\\\HB\\\\HB-modellering\\\\DDDtestbenk\\\\DDD_Julia\\\\DDDFunctions\\\\OFICap.jl\")\n",
    "include(\"\\\\\\\\nve.no\\\\fil\\\\h\\\\HB\\\\HB-modellering\\\\DDDtestbenk\\\\DDD_Julia\\\\DDDFunctions\\\\LayerCapacityUpdate.jl\")\n",
    "include(\"\\\\\\\\nve.no\\\\fil\\\\h\\\\HB\\\\HB-modellering\\\\DDDtestbenk\\\\DDD_Julia\\\\DDDFunctions\\\\LayerCapacityInit.jl\")\n",
    "include(\"\\\\\\\\nve.no\\\\fil\\\\h\\\\HB\\\\HB-modellering\\\\DDDtestbenk\\\\DDD_Julia\\\\DDDFunctions\\\\LayerUpdate.jl\")\n",
    "include(\"\\\\\\\\nve.no\\\\fil\\\\h\\\\HB\\\\HB-modellering\\\\DDDtestbenk\\\\DDD_Julia\\\\DDDFunctions\\\\LayerInitUrbanDesign.jl\")\n",
    "include(\"\\\\\\\\nve.no\\\\fil\\\\h\\\\HB\\\\HB-modellering\\\\DDDtestbenk\\\\DDD_Julia\\\\DDDFunctions\\\\RiverUpdate.jl\")\n",
    "\n",
    "\n",
    "include(\"\\\\\\\\nve.no\\\\fil\\\\h\\\\HB\\\\HB-modellering\\\\DDDtestbenk\\\\DDD_Julia\\\\DDDFunctions\\\\DDDEventFloodDesign.jl\")\n",
    "########################################################################################\n",
    "\n",
    "\n",
    "t1= time_ns()\n",
    "\n",
    "catchment = \"123.38\"#\n",
    "paramfile = string(\"\\\\\\\\nve.no\\\\fil\\\\h\\\\HM\\\\Interne Prosjekter\\\\UrbanDesignFlom\\\\Parameters\\\\\",catchment,\"\\\\Par_\",\n",
    "    catchment,\"_3(15)_AAR.csv\")\n",
    "#utfile  = string(\"\\\\\\\\nve.no\\\\fil\\\\h\\\\HB\\\\HB-modellering\\\\DDDtestbenk\\\\DDD_Urban\\\\utdata\\\\Risvollan\\\\simres_\",\n",
    "#    catchment,\"_ths_FD_SON_3(15).csv\")\n",
    "utfile  = string(\"\\\\\\\\nve.no\\\\fil\\\\h\\\\HM\\\\Interne Prosjekter\\\\UrbanDesignFlom\\\\utdata\\\\Risvollan\\\\simres_\",\n",
    "    catchment,\"_AAR_3(15)_SScontrib.csv\")\n",
    "#utfile2  = string(\"\\\\\\\\nve.no\\\\fil\\\\h\\\\HB\\\\HB-modellering\\\\DDDtestbenk\\\\DDD_Urban\\\\utdata\\\\Risvollan\\\\simres2_\",\n",
    "#    catchment,\"_ths_FD_SON_3(15).csv\")\n",
    "utfile2  = string(\"\\\\\\\\nve.no\\\\fil\\\\h\\\\HM\\\\Interne Prosjekter\\\\UrbanDesignFlom\\\\utdata\\\\Risvollan\\\\simres2_\",\n",
    "    catchment,\"_ARR_3(15)_SScontrib.csv\")\n",
    "\n",
    "prm = CSV.read(paramfile,DataFrame,header=[\"Name\", \"val\"], delim=';')    \n",
    "# Parameters to be calibrated\n",
    "#         OFP,         GscInt     persons       GPsh         ICapP\n",
    "tprm = [prm.val[19], prm.val[22], prm.val[24], prm.val[28], prm.val[31]]\n",
    "\n",
    "#Gshape, Gscale = Big2SmallLambda(prm.val[22], prm.val[22]) # GshInt and GscInt Converts integrated celerity to layers. \n",
    "\n",
    "NumSim = 100000\n",
    " \n",
    "function calib_wrapper_model(tprm, prm, utfile, utfile2, NumSim)\n",
    " maxP = DDDEventFloodDesign(tprm, prm, utfile, utfile2, NumSim)  \n",
    " return maxP \n",
    "end\n",
    "    \n",
    "calib_wrapper_model(tprm, prm, utfile, utfile2, NumSim) # a single run     \n",
    "\n",
    "t2 = time_ns()\n",
    "println(\"Time elapsed[s]= \",(t2-t1)/1.0e9)\n",
    "\n",
    "   "
   ]
  }
 ],
 "metadata": {
  "kernelspec": {
   "display_name": "Julia 1.9.2",
   "language": "julia",
   "name": "julia-1.9"
  },
  "language_info": {
   "file_extension": ".jl",
   "mimetype": "application/julia",
   "name": "julia",
   "version": "1.9.2"
  }
 },
 "nbformat": 4,
 "nbformat_minor": 2
}
